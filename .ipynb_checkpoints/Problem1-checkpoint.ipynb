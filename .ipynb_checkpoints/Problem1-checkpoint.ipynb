{
 "cells": [
  {
   "cell_type": "code",
   "execution_count": 550,
   "id": "4b2c4293",
   "metadata": {},
   "outputs": [],
   "source": [
    "import torch\n",
    "import math\n",
    "from matplotlib import pyplot as plt\n",
    "import numpy as np"
   ]
  },
  {
   "cell_type": "code",
   "execution_count": 551,
   "id": "e7f0fe29",
   "metadata": {},
   "outputs": [],
   "source": [
    "#Data Array\n",
    "t_c = [0.5,  14.0, 15.0, 28.0, 11.0,  8.0,  3.0, -4.0,  6.0, 13.0, 21.0]\n",
    "t_u = [35.7, 55.9, 58.2, 81.9, 56.3, 48.9, 33.9, 21.8, 48.4, 60.4, 68.4]\n",
    "t_c = torch.tensor(t_c)\n",
    "t_u = torch.tensor(t_u)"
   ]
  },
  {
   "cell_type": "code",
   "execution_count": 552,
   "id": "e3d0a403",
   "metadata": {},
   "outputs": [],
   "source": [
    "#Weights and Bias\n",
    "w2 = torch.ones(t_u.size(dim=0))\n",
    "w1 = torch.ones(t_u.size(dim=0))\n",
    "b = torch.zeros(t_u.size(dim=0))"
   ]
  },
  {
   "cell_type": "code",
   "execution_count": 553,
   "id": "699b7078",
   "metadata": {},
   "outputs": [],
   "source": [
    "#Model definition polynomial\n",
    "def model(t_u, w2, w1, b):\n",
    "    return w2*(t_u)**2 + t_u*w1 + b"
   ]
  },
  {
   "cell_type": "code",
   "execution_count": 554,
   "id": "5bc1e3a4",
   "metadata": {},
   "outputs": [],
   "source": [
    "#Loss function\n",
    "def loss_func(t_p, t_c):\n",
    "    var = (t_p-t_c)**2\n",
    "    return var.mean()"
   ]
  },
  {
   "cell_type": "code",
   "execution_count": 555,
   "id": "db2dd3ae",
   "metadata": {
    "scrolled": true
   },
   "outputs": [
    {
     "data": {
      "text/plain": [
       "tensor([1310.1901, 3180.7100, 3445.4399, 6789.5103, 3225.9900, 2440.1101,\n",
       "        1183.1101,  497.0399, 2390.9600, 3708.5601, 4746.9600])"
      ]
     },
     "execution_count": 555,
     "metadata": {},
     "output_type": "execute_result"
    }
   ],
   "source": [
    "t_p = model(t_u, w2, w1, b)\n",
    "t_p"
   ]
  },
  {
   "cell_type": "code",
   "execution_count": 556,
   "id": "51fb3797",
   "metadata": {},
   "outputs": [
    {
     "data": {
      "text/plain": [
       "tensor(11709471.)"
      ]
     },
     "execution_count": 556,
     "metadata": {},
     "output_type": "execute_result"
    }
   ],
   "source": [
    "loss = loss_func(t_p, t_c)\n",
    "loss"
   ]
  },
  {
   "cell_type": "code",
   "execution_count": 557,
   "id": "df60b3b5",
   "metadata": {},
   "outputs": [],
   "source": [
    "delta = 0.1\n",
    "loss_rate_of_change_b = (loss_func(model(t_u, w2, w1, b+delta), t_c) - loss_func(model(t_u, w2, w1, b-delta), t_c))/(2.0 * delta)\n",
    "loss_rate_of_change_w1 = (loss_func(model(t_u, w2, w1+delta, b), t_c) - loss_func(model(t_u, w2, w1-delta, b), t_c))/(2.0 * delta)\n",
    "loss_rate_of_change_w2 = (loss_func(model(t_u, w2+delta, w1 ,b), t_c) - loss_func(model(t_u, w2-delta, w1, b), t_c))/(2.0 * delta)"
   ]
  },
  {
   "cell_type": "code",
   "execution_count": 558,
   "id": "099d9dd0",
   "metadata": {},
   "outputs": [
    {
     "name": "stdout",
     "output_type": "stream",
     "text": [
      "tensor(5965.)\n",
      "tensor(361810.)\n",
      "tensor(23148730.)\n"
     ]
    }
   ],
   "source": [
    "print(loss_rate_of_change_b)\n",
    "print(loss_rate_of_change_w1)\n",
    "print(loss_rate_of_change_w2)"
   ]
  },
  {
   "cell_type": "code",
   "execution_count": 559,
   "id": "ff93bb20",
   "metadata": {},
   "outputs": [],
   "source": [
    "#learning_rate = 0.01\n",
    "w1 = w1 - learning_rate * loss_rate_of_change_w1\n",
    "w2 = w2 - learning_rate * loss_rate_of_change_w2\n",
    "b = b - learning_rate * loss_rate_of_change_b"
   ]
  },
  {
   "cell_type": "code",
   "execution_count": 560,
   "id": "9d1a1bf3",
   "metadata": {},
   "outputs": [
    {
     "name": "stdout",
     "output_type": "stream",
     "text": [
      "tensor([-59.6500, -59.6500, -59.6500, -59.6500, -59.6500, -59.6500, -59.6500,\n",
      "        -59.6500, -59.6500, -59.6500, -59.6500])\n",
      "tensor([-3617.0999, -3617.0999, -3617.0999, -3617.0999, -3617.0999, -3617.0999,\n",
      "        -3617.0999, -3617.0999, -3617.0999, -3617.0999, -3617.0999])\n",
      "tensor([-231486.2969, -231486.2969, -231486.2969, -231486.2969, -231486.2969,\n",
      "        -231486.2969, -231486.2969, -231486.2969, -231486.2969, -231486.2969,\n",
      "        -231486.2969])\n"
     ]
    }
   ],
   "source": [
    "print(b)\n",
    "print(w1)\n",
    "print(w2)"
   ]
  },
  {
   "cell_type": "code",
   "execution_count": 561,
   "id": "3e8311f1",
   "metadata": {},
   "outputs": [],
   "source": [
    "#Partial deriv of loss function \n",
    "def dloss_fn(t_p, t_c):\n",
    "    dsq_diffs=2* (t_p - t_c) / t_p.size(0)\n",
    "    return dsq_diffs"
   ]
  },
  {
   "cell_type": "code",
   "execution_count": 562,
   "id": "141a1fca",
   "metadata": {},
   "outputs": [],
   "source": [
    "#dm/dw2\n",
    "def dmodel_dw2(t_u, w2, w1, b):\n",
    "    return t_u**2"
   ]
  },
  {
   "cell_type": "code",
   "execution_count": 563,
   "id": "9fdfdeae",
   "metadata": {},
   "outputs": [],
   "source": [
    "#dm/dw1\n",
    "def dmodel_dw1(t_u, w2, w1, b):\n",
    "    return t_u"
   ]
  },
  {
   "cell_type": "code",
   "execution_count": 564,
   "id": "57e2e161",
   "metadata": {},
   "outputs": [],
   "source": [
    "#dm/db\n",
    "def dmodel_db(t_u, w2, w1, b):\n",
    "    return 1.0"
   ]
  },
  {
   "cell_type": "code",
   "execution_count": 565,
   "id": "dabd3752",
   "metadata": {},
   "outputs": [],
   "source": [
    "def grad_fn(t_u, t_c, t_p, w2, w1, b):\n",
    "    dloss_dtp = dloss_fn(t_p, t_c)\n",
    "    dloss_dw2 = dloss_dtp * dmodel_dw2(t_u, w2, w1, b)\n",
    "    dloss_dw1 = dloss_dtp * dmodel_dw1(t_u, w2, w1, b)\n",
    "    dloss_db = dloss_dtp * dmodel_db(t_u, w2, w1, b)\n",
    "    return torch.stack([dloss_dw2.sum(), dloss_dw1.sum(), dloss_db.sum()])\n"
   ]
  },
  {
   "cell_type": "code",
   "execution_count": 571,
   "id": "4bb9ff6c",
   "metadata": {},
   "outputs": [],
   "source": [
    "def training_loop(n_epochs, learning_rate, params, t_u, t_c):\n",
    "    for epoch in range(1, n_epochs + 1):\n",
    "        w2, w1, b = params\n",
    "        t_p = model(t_u, w2, w1, b)\n",
    "        loss = loss_func(t_p, t_c)\n",
    "        grad = grad_fn(t_u, t_c, t_p, w2, w1, b)\n",
    "        params = params - learning_rate * grad\n",
    "        print('Epoch %d, Loss %f' % (epoch, float(loss)))\n",
    "        print('Params: %f', params)\n",
    "        print(\"Grad: %f\", grad)\n",
    "        print('-------------------------------------------------')\n",
    "    return params"
   ]
  },
  {
   "cell_type": "code",
   "execution_count": 572,
   "id": "5bbcb03e",
   "metadata": {
    "scrolled": true
   },
   "outputs": [
    {
     "name": "stdout",
     "output_type": "stream",
     "text": [
      "Epoch 1, Loss 2834365.250000\n",
      "Params: %f tensor([-0.6389,  0.0822,  0.4997])\n",
      "Grad: %f tensor([1.1389e+07, 1.7792e+05, 2.9312e+03])\n",
      "-------------------------------------------------\n"
     ]
    },
    {
     "data": {
      "text/plain": [
       "tensor([-0.6389,  0.0822,  0.4997])"
      ]
     },
     "execution_count": 572,
     "metadata": {},
     "output_type": "execute_result"
    }
   ],
   "source": [
    "#In this part I was getting na numbers...I HAD to reduce the learning rate to that level......\n",
    "#rest of the training for LR=0.1,0.01,0.001,0.0001 is done in the following sub-parts of the HW like Problem 1.1,1.2,etc.\n",
    "\n",
    "t_un = 0.1 * t_u\n",
    "training_loop(\n",
    "n_epochs = 500,\n",
    "learning_rate = 1e-7,\n",
    "params = torch.tensor([0.5, 0.1, 0.5]),\n",
    "t_u = t_u,\n",
    "t_c = t_c)"
   ]
  },
  {
   "cell_type": "code",
   "execution_count": 570,
   "id": "73c30c32",
   "metadata": {
    "scrolled": true
   },
   "outputs": [
    {
     "data": {
      "text/plain": [
       "[<matplotlib.lines.Line2D at 0x1a55e5ae100>]"
      ]
     },
     "execution_count": 570,
     "metadata": {},
     "output_type": "execute_result"
    },
    {
     "data": {
      "image/png": "[encoded data removed]",
      "text/plain": [
       "<Figure size 432x288 with 1 Axes>"
      ]
     },
     "metadata": {
      "needs_background": "light"
     },
     "output_type": "display_data"
    }
   ],
   "source": [
    "plt.plot(np.sort(t_u.numpy()), t_c.numpy(), '.', color = \"navy\");\n",
    "plt.plot(np.sort(t_u.numpy()), np.sort(t_p.detach().numpy()), color = \"r\")"
   ]
  }
 ],
 "metadata": {
  "kernelspec": {
   "display_name": "Python 3 (ipykernel)",
   "language": "python",
   "name": "python3"
  },
  "language_info": {
   "codemirror_mode": {
    "name": "ipython",
    "version": 3
   },
   "file_extension": ".py",
   "mimetype": "text/x-python",
   "name": "python",
   "nbconvert_exporter": "python",
   "pygments_lexer": "ipython3",
   "version": "3.9.12"
  }
 },
 "nbformat": 4,
 "nbformat_minor": 5
}
